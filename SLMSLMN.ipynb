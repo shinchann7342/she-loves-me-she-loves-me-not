{
 "cells": [
  {
   "cell_type": "code",
   "execution_count": null,
   "metadata": {},
   "outputs": [],
   "source": [
    "print(\"Hello Aval ❤️🦋\")"
   ]
  },
  {
   "cell_type": "code",
   "execution_count": null,
   "metadata": {},
   "outputs": [],
   "source": [
    "from numpy import random\n",
    "import numpy\n",
    "import time"
   ]
  },
  {
   "cell_type": "code",
   "execution_count": null,
   "metadata": {},
   "outputs": [],
   "source": [
    "name= input(\"Enter your crush's Name:\")\n",
    "choice=input(\"\\nChoose your flower\\n1.Rose(short)\\n2.Dandelion(long)\\n Pick your Flower:\")\n",
    "if(choice==1 or \"Rose\"):\n",
    "    n=random.randint(20,50)\n",
    "elif(choice==2 or \"Dandelion\"):\n",
    "    n=random.randint(80,200)\n",
    "\n",
    "x=random.randint(100,size=(n))\n",
    "x=list(x)"
   ]
  },
  {
   "cell_type": "code",
   "execution_count": null,
   "metadata": {},
   "outputs": [],
   "source": [
    "while(len(x)!=1):\n",
    "    ran=len(x)\n",
    "    del x[random.randint(0,len(x))]\n",
    "    time.sleep(0.5)\n",
    "    if(len(x)%2==0):\n",
    "        ch=\" loves you not 😕😕\"\n",
    "        print(name,ch)\n",
    "    else:\n",
    "        ch=\" loves you ❤️🦋\"\n",
    "        print(name,ch)\n",
    "if (ch==\" loves you ❤️🦋\"):\n",
    "    print(\"\\n\\n\",name,\" loves you... 🦋🦋❤️why are you overthinking things...\")\n",
    "else:\n",
    "    print(\"\\n\\nIts alright there are plenty of flowers in the garden...🥲😌👍\")"
   ]
  },
  {
   "cell_type": "code",
   "execution_count": null,
   "metadata": {},
   "outputs": [],
   "source": []
  }
 ],
 "metadata": {
  "kernelspec": {
   "display_name": "Python 3 (ipykernel)",
   "language": "python",
   "name": "python3"
  },
  "language_info": {
   "codemirror_mode": {
    "name": "ipython",
    "version": 3
   },
   "file_extension": ".py",
   "mimetype": "text/x-python",
   "name": "python",
   "nbconvert_exporter": "python",
   "pygments_lexer": "ipython3",
   "version": "3.11.0"
  }
 },
 "nbformat": 4,
 "nbformat_minor": 4
}
